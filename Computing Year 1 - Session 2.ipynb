{
 "cells": [
  {
   "cell_type": "markdown",
   "metadata": {
    "collapsed": true
   },
   "source": [
    "## Preceded by:\n",
    "\n",
    "Week 3: Computing Lecture 2:\n",
    "\n",
    "- Data analysis --> what do you do once you've taken your data in lab?\n",
    "\n"
   ]
  },
  {
   "cell_type": "markdown",
   "metadata": {},
   "source": [
    "## Outline of Session 2 (to be converted into intended learning outcomes)\n",
    "\n",
    "- Error bars\n",
    "- Error propagation\n",
    "- Fitting routines\n",
    "- Parameter estimation\n"
   ]
  }
 ],
 "metadata": {
  "kernelspec": {
   "display_name": "Python 3",
   "language": "python",
   "name": "python3"
  },
  "language_info": {
   "codemirror_mode": {
    "name": "ipython",
    "version": 3
   },
   "file_extension": ".py",
   "mimetype": "text/x-python",
   "name": "python",
   "nbconvert_exporter": "python",
   "pygments_lexer": "ipython3",
   "version": "3.6.1"
  }
 },
 "nbformat": 4,
 "nbformat_minor": 2
}
