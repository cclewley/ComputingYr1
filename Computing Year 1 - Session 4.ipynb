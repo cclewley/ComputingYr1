{
 "cells": [
  {
   "cell_type": "markdown",
   "metadata": {},
   "source": [
    "## Preceded by:\n",
    "\n",
    "Week 5: Computing Lecture 4:\n",
    "\n",
    "- Numerical modelling: what is it?\n",
    "- Functions and subroutines: input and output\n",
    "\n"
   ]
  },
  {
   "cell_type": "markdown",
   "metadata": {
    "collapsed": true
   },
   "source": [
    "## Outline of Session 4 (to be converted into intended learning outcomes)\n",
    "\n",
    "- Make a simple function \n",
    "- Have a detailed look at a pre-written function (ODE solver?)\n",
    "- Create a simple numerical model (full satellite orbit might be too advanced?)"
   ]
  },
  {
   "cell_type": "markdown",
   "metadata": {},
   "source": [
    "## Note: possibility of linking with Mechanics problem sheets. For example orbits in problem sheet 7 (week 8 probably)"
   ]
  }
 ],
 "metadata": {
  "kernelspec": {
   "display_name": "Python 3",
   "language": "python",
   "name": "python3"
  },
  "language_info": {
   "codemirror_mode": {
    "name": "ipython",
    "version": 3
   },
   "file_extension": ".py",
   "mimetype": "text/x-python",
   "name": "python",
   "nbconvert_exporter": "python",
   "pygments_lexer": "ipython3",
   "version": "3.6.1"
  }
 },
 "nbformat": 4,
 "nbformat_minor": 2
}
