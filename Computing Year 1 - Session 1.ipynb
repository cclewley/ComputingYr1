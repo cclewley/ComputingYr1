{
 "cells": [
  {
   "cell_type": "markdown",
   "metadata": {},
   "source": [
    "## Preceded by:\n",
    "\n",
    "Week 1: Intro to Python lecture. Why do Physicists program? (Not only science, also other careers). Why Python? (libraries etc)\n",
    "Week 2: Computing Lecture 1:\n",
    "\n",
    "- How coding in Python works --> packages, functions, keywords / arguments\n",
    "- Different data types (storage in memory)\n",
    "- Getting help\n",
    "\n",
    "\n"
   ]
  },
  {
   "cell_type": "markdown",
   "metadata": {},
   "source": [
    "## Outline of Session 1 (to be converted into intended learning outcomes)\n",
    "\n",
    "- Creating and printing variables \n",
    "- Simple maths operations on integers, floats, and arrays\n",
    "- Reading in data\n",
    "- Basic stats\n",
    "- Displaying data in simple plots\n",
    "- Saving work\n"
   ]
  },
  {
   "cell_type": "code",
   "execution_count": null,
   "metadata": {
    "collapsed": true
   },
   "outputs": [],
   "source": []
  }
 ],
 "metadata": {
  "kernelspec": {
   "display_name": "Python 3",
   "language": "python",
   "name": "python3"
  },
  "language_info": {
   "codemirror_mode": {
    "name": "ipython",
    "version": 3
   },
   "file_extension": ".py",
   "mimetype": "text/x-python",
   "name": "python",
   "nbconvert_exporter": "python",
   "pygments_lexer": "ipython3",
   "version": "3.6.1"
  }
 },
 "nbformat": 4,
 "nbformat_minor": 2
}
