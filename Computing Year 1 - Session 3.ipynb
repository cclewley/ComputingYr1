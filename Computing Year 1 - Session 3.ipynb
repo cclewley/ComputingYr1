{
 "cells": [
  {
   "cell_type": "markdown",
   "metadata": {
    "collapsed": true
   },
   "source": [
    "## Preceded by:\n",
    "\n",
    "Week 4: Computing Lecture 3:\n",
    "\n",
    "- The Anaconda editor environment\n",
    "- How to structure a basic programme (block diagram)\n",
    "- Logic statements & loops \n",
    "- Coding best practice (comments / clean code)\n",
    "- When things go wrong"
   ]
  },
  {
   "cell_type": "markdown",
   "metadata": {},
   "source": [
    "## Outline of Session 3 (to be converted into intended learning outcomes)\n",
    "\n",
    "- Create a first formal programme\n",
    "- Use if / for / while loops. Pay attention to logic statements with different types of variables.\n",
    "- Debugging and testing\n"
   ]
  },
  {
   "cell_type": "markdown",
   "metadata": {},
   "source": []
  }
 ],
 "metadata": {
  "kernelspec": {
   "display_name": "Python 3",
   "language": "python",
   "name": "python3"
  },
  "language_info": {
   "codemirror_mode": {
    "name": "ipython",
    "version": 3
   },
   "file_extension": ".py",
   "mimetype": "text/x-python",
   "name": "python",
   "nbconvert_exporter": "python",
   "pygments_lexer": "ipython3",
   "version": "3.6.1"
  }
 },
 "nbformat": 4,
 "nbformat_minor": 2
}
